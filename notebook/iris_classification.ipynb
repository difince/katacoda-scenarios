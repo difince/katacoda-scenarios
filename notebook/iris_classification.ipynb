{
 "cells": [
  {
   "cell_type": "markdown",
   "metadata": {},
   "source": [
    "# Iris Flower Classification\n",
    "\n",
    "Classify different species of the Iris flower\n",
    "\n",
    "**Iris** is the family in the flower which contains the several species such as the setosa, versicolor, virginica, etc.\n"
   ]
  },
  {
   "cell_type": "markdown",
   "metadata": {},
   "source": [
    "### Data Exploration"
   ]
  },
  {
   "cell_type": "code",
   "execution_count": 1,
   "metadata": {},
   "outputs": [],
   "source": [
    "from sklearn import datasets\n",
    "from sklearn.model_selection import train_test_split\n",
    "from sklearn import svm\n",
    "from sklearn import tree\n",
    "from sklearn import neighbors\n",
    "from sklearn.metrics import accuracy_score\n",
    "\n",
    "import pandas as pd\n",
    "import numpy as np\n"
   ]
  },
  {
   "cell_type": "code",
   "execution_count": 2,
   "metadata": {},
   "outputs": [
    {
     "data": {
      "text/html": [
       "<div>\n",
       "<style scoped>\n",
       "    .dataframe tbody tr th:only-of-type {\n",
       "        vertical-align: middle;\n",
       "    }\n",
       "\n",
       "    .dataframe tbody tr th {\n",
       "        vertical-align: top;\n",
       "    }\n",
       "\n",
       "    .dataframe thead th {\n",
       "        text-align: right;\n",
       "    }\n",
       "</style>\n",
       "<table border=\"1\" class=\"dataframe\">\n",
       "  <thead>\n",
       "    <tr style=\"text-align: right;\">\n",
       "      <th></th>\n",
       "      <th>sepal length (cm)</th>\n",
       "      <th>sepal width (cm)</th>\n",
       "      <th>petal length (cm)</th>\n",
       "      <th>petal width (cm)</th>\n",
       "    </tr>\n",
       "  </thead>\n",
       "  <tbody>\n",
       "    <tr>\n",
       "      <th>0</th>\n",
       "      <td>5.1</td>\n",
       "      <td>3.5</td>\n",
       "      <td>1.4</td>\n",
       "      <td>0.2</td>\n",
       "    </tr>\n",
       "    <tr>\n",
       "      <th>1</th>\n",
       "      <td>4.9</td>\n",
       "      <td>3.0</td>\n",
       "      <td>1.4</td>\n",
       "      <td>0.2</td>\n",
       "    </tr>\n",
       "    <tr>\n",
       "      <th>2</th>\n",
       "      <td>4.7</td>\n",
       "      <td>3.2</td>\n",
       "      <td>1.3</td>\n",
       "      <td>0.2</td>\n",
       "    </tr>\n",
       "    <tr>\n",
       "      <th>3</th>\n",
       "      <td>4.6</td>\n",
       "      <td>3.1</td>\n",
       "      <td>1.5</td>\n",
       "      <td>0.2</td>\n",
       "    </tr>\n",
       "    <tr>\n",
       "      <th>4</th>\n",
       "      <td>5.0</td>\n",
       "      <td>3.6</td>\n",
       "      <td>1.4</td>\n",
       "      <td>0.2</td>\n",
       "    </tr>\n",
       "  </tbody>\n",
       "</table>\n",
       "</div>"
      ],
      "text/plain": [
       "   sepal length (cm)  sepal width (cm)  petal length (cm)  petal width (cm)\n",
       "0                5.1               3.5                1.4               0.2\n",
       "1                4.9               3.0                1.4               0.2\n",
       "2                4.7               3.2                1.3               0.2\n",
       "3                4.6               3.1                1.5               0.2\n",
       "4                5.0               3.6                1.4               0.2"
      ]
     },
     "execution_count": 2,
     "metadata": {},
     "output_type": "execute_result"
    }
   ],
   "source": [
    "# load dataset\n",
    "iris_dataset = datasets.load_iris()\n",
    "\n",
    "# convert to dataframe\n",
    "df = pd.DataFrame(iris_dataset.data, columns=iris_dataset.feature_names)\n",
    "\n",
    "# show the first 5 rows\n",
    "df.head(5)"
   ]
  },
  {
   "cell_type": "code",
   "execution_count": 3,
   "metadata": {},
   "outputs": [
    {
     "data": {
      "text/plain": [
       "(150, 4)"
      ]
     },
     "execution_count": 3,
     "metadata": {},
     "output_type": "execute_result"
    }
   ],
   "source": [
    "# number of sample and number of features\n",
    "df.shape"
   ]
  },
  {
   "cell_type": "code",
   "execution_count": 4,
   "metadata": {},
   "outputs": [
    {
     "data": {
      "text/html": [
       "<div>\n",
       "<style scoped>\n",
       "    .dataframe tbody tr th:only-of-type {\n",
       "        vertical-align: middle;\n",
       "    }\n",
       "\n",
       "    .dataframe tbody tr th {\n",
       "        vertical-align: top;\n",
       "    }\n",
       "\n",
       "    .dataframe thead th {\n",
       "        text-align: right;\n",
       "    }\n",
       "</style>\n",
       "<table border=\"1\" class=\"dataframe\">\n",
       "  <thead>\n",
       "    <tr style=\"text-align: right;\">\n",
       "      <th></th>\n",
       "      <th>sepal length (cm)</th>\n",
       "      <th>sepal width (cm)</th>\n",
       "      <th>petal length (cm)</th>\n",
       "      <th>petal width (cm)</th>\n",
       "      <th>target</th>\n",
       "      <th>species</th>\n",
       "    </tr>\n",
       "  </thead>\n",
       "  <tbody>\n",
       "    <tr>\n",
       "      <th>0</th>\n",
       "      <td>5.1</td>\n",
       "      <td>3.5</td>\n",
       "      <td>1.4</td>\n",
       "      <td>0.2</td>\n",
       "      <td>0</td>\n",
       "      <td>setosa</td>\n",
       "    </tr>\n",
       "    <tr>\n",
       "      <th>1</th>\n",
       "      <td>4.9</td>\n",
       "      <td>3.0</td>\n",
       "      <td>1.4</td>\n",
       "      <td>0.2</td>\n",
       "      <td>0</td>\n",
       "      <td>setosa</td>\n",
       "    </tr>\n",
       "    <tr>\n",
       "      <th>2</th>\n",
       "      <td>4.7</td>\n",
       "      <td>3.2</td>\n",
       "      <td>1.3</td>\n",
       "      <td>0.2</td>\n",
       "      <td>0</td>\n",
       "      <td>setosa</td>\n",
       "    </tr>\n",
       "    <tr>\n",
       "      <th>3</th>\n",
       "      <td>4.6</td>\n",
       "      <td>3.1</td>\n",
       "      <td>1.5</td>\n",
       "      <td>0.2</td>\n",
       "      <td>0</td>\n",
       "      <td>setosa</td>\n",
       "    </tr>\n",
       "    <tr>\n",
       "      <th>4</th>\n",
       "      <td>5.0</td>\n",
       "      <td>3.6</td>\n",
       "      <td>1.4</td>\n",
       "      <td>0.2</td>\n",
       "      <td>0</td>\n",
       "      <td>setosa</td>\n",
       "    </tr>\n",
       "  </tbody>\n",
       "</table>\n",
       "</div>"
      ],
      "text/plain": [
       "   sepal length (cm)  sepal width (cm)  petal length (cm)  petal width (cm)  \\\n",
       "0                5.1               3.5                1.4               0.2   \n",
       "1                4.9               3.0                1.4               0.2   \n",
       "2                4.7               3.2                1.3               0.2   \n",
       "3                4.6               3.1                1.5               0.2   \n",
       "4                5.0               3.6                1.4               0.2   \n",
       "\n",
       "   target species  \n",
       "0       0  setosa  \n",
       "1       0  setosa  \n",
       "2       0  setosa  \n",
       "3       0  setosa  \n",
       "4       0  setosa  "
      ]
     },
     "execution_count": 4,
     "metadata": {},
     "output_type": "execute_result"
    }
   ],
   "source": [
    "# add a new column target\n",
    "df['target'] = pd.Series(iris_dataset.target)\n",
    "\n",
    "# add a new column species\n",
    "df['species'] = pd.Categorical.from_codes(iris_dataset.target, iris_dataset.target_names)\n",
    "\n",
    "# show the first 5 rows\n",
    "df.head(5)\n"
   ]
  },
  {
   "cell_type": "markdown",
   "metadata": {},
   "source": [
    "Clean up code"
   ]
  },
  {
   "cell_type": "code",
   "execution_count": 5,
   "metadata": {},
   "outputs": [],
   "source": [
    "def download_data():\n",
    "    iris_dataset = datasets.load_iris()\n",
    "    \n",
    "    # x contains iris features\n",
    "    # (Sepal length, Sepal width, Petal length, Petal width)\n",
    "    X = iris_dataset.data\n",
    "    \n",
    "    # y contins the labels\n",
    "    # (0 for Setosa, 1 for Versicolor, or 2 for Virginica)\n",
    "    y = iris_dataset.target\n",
    "    \n",
    "    return X, y\n"
   ]
  },
  {
   "cell_type": "code",
   "execution_count": 6,
   "metadata": {},
   "outputs": [],
   "source": [
    "X, y = download_data()\n"
   ]
  },
  {
   "cell_type": "markdown",
   "metadata": {},
   "source": [
    "### Split up the dataset"
   ]
  },
  {
   "cell_type": "code",
   "execution_count": 7,
   "metadata": {},
   "outputs": [
    {
     "data": {
      "text/plain": [
       "[array([[5.8, 2.7, 3.9, 1.2],\n",
       "        [5.7, 2.8, 4.1, 1.3],\n",
       "        [6.1, 3. , 4.6, 1.4],\n",
       "        [6.2, 2.9, 4.3, 1.3],\n",
       "        [4.9, 2.5, 4.5, 1.7],\n",
       "        [5.6, 3. , 4.5, 1.5],\n",
       "        [6.7, 3.1, 4.7, 1.5],\n",
       "        [4.8, 3.1, 1.6, 0.2],\n",
       "        [6.5, 2.8, 4.6, 1.5],\n",
       "        [5.7, 3.8, 1.7, 0.3],\n",
       "        [6.7, 3.3, 5.7, 2.1],\n",
       "        [5.6, 2.5, 3.9, 1.1],\n",
       "        [5.6, 3. , 4.1, 1.3],\n",
       "        [5.8, 2.7, 5.1, 1.9],\n",
       "        [6.7, 3. , 5.2, 2.3],\n",
       "        [5.3, 3.7, 1.5, 0.2],\n",
       "        [4.4, 2.9, 1.4, 0.2],\n",
       "        [7.3, 2.9, 6.3, 1.8],\n",
       "        [5.7, 2.8, 4.5, 1.3],\n",
       "        [7.4, 2.8, 6.1, 1.9],\n",
       "        [4.9, 3. , 1.4, 0.2],\n",
       "        [7.2, 3. , 5.8, 1.6],\n",
       "        [5.5, 2.6, 4.4, 1.2],\n",
       "        [6.8, 2.8, 4.8, 1.4],\n",
       "        [6.4, 3.1, 5.5, 1.8],\n",
       "        [6. , 2.2, 4. , 1. ],\n",
       "        [4.6, 3.4, 1.4, 0.3],\n",
       "        [5. , 3.5, 1.3, 0.3],\n",
       "        [5.1, 3.5, 1.4, 0.3],\n",
       "        [5.4, 3.9, 1.3, 0.4],\n",
       "        [6.4, 2.9, 4.3, 1.3],\n",
       "        [5. , 3.4, 1.5, 0.2],\n",
       "        [5.1, 3.5, 1.4, 0.2],\n",
       "        [7.7, 2.8, 6.7, 2. ],\n",
       "        [6.3, 2.8, 5.1, 1.5],\n",
       "        [6.2, 3.4, 5.4, 2.3],\n",
       "        [6.1, 2.9, 4.7, 1.4],\n",
       "        [5.1, 3.3, 1.7, 0.5],\n",
       "        [5.5, 2.4, 3.8, 1.1],\n",
       "        [7.7, 3.8, 6.7, 2.2],\n",
       "        [5.8, 4. , 1.2, 0.2],\n",
       "        [6.7, 3.1, 4.4, 1.4],\n",
       "        [6.1, 3. , 4.9, 1.8],\n",
       "        [5.1, 2.5, 3. , 1.1],\n",
       "        [6.3, 3.4, 5.6, 2.4],\n",
       "        [6.6, 2.9, 4.6, 1.3],\n",
       "        [5.5, 4.2, 1.4, 0.2],\n",
       "        [6.4, 2.8, 5.6, 2.2],\n",
       "        [6.7, 3.3, 5.7, 2.5],\n",
       "        [6.3, 2.9, 5.6, 1.8],\n",
       "        [4.3, 3. , 1.1, 0.1],\n",
       "        [5.9, 3. , 5.1, 1.8],\n",
       "        [4.8, 3.4, 1.6, 0.2],\n",
       "        [5. , 3.5, 1.6, 0.6],\n",
       "        [4.7, 3.2, 1.3, 0.2],\n",
       "        [4.4, 3. , 1.3, 0.2],\n",
       "        [5.5, 2.4, 3.7, 1. ],\n",
       "        [4.8, 3. , 1.4, 0.3],\n",
       "        [7.9, 3.8, 6.4, 2. ],\n",
       "        [5.1, 3.8, 1.5, 0.3],\n",
       "        [7.1, 3. , 5.9, 2.1],\n",
       "        [5.1, 3.8, 1.9, 0.4],\n",
       "        [6.9, 3.1, 5.4, 2.1],\n",
       "        [5.1, 3.8, 1.6, 0.2],\n",
       "        [4.4, 3.2, 1.3, 0.2],\n",
       "        [5. , 3.6, 1.4, 0.2],\n",
       "        [4.5, 2.3, 1.3, 0.3],\n",
       "        [5.4, 3.9, 1.7, 0.4],\n",
       "        [5.8, 2.7, 4.1, 1. ],\n",
       "        [6.3, 2.7, 4.9, 1.8],\n",
       "        [7.7, 2.6, 6.9, 2.3],\n",
       "        [6.2, 2.8, 4.8, 1.8],\n",
       "        [5.4, 3.4, 1.7, 0.2],\n",
       "        [5.8, 2.7, 5.1, 1.9],\n",
       "        [5. , 3.2, 1.2, 0.2],\n",
       "        [6.3, 3.3, 4.7, 1.6],\n",
       "        [6.3, 2.5, 5. , 1.9],\n",
       "        [6.8, 3. , 5.5, 2.1],\n",
       "        [5.7, 2.5, 5. , 2. ],\n",
       "        [5.9, 3. , 4.2, 1.5],\n",
       "        [5.6, 2.9, 3.6, 1.3],\n",
       "        [6.1, 2.8, 4. , 1.3],\n",
       "        [5.4, 3.7, 1.5, 0.2],\n",
       "        [6.9, 3.2, 5.7, 2.3],\n",
       "        [5.2, 3.5, 1.5, 0.2],\n",
       "        [5. , 3.4, 1.6, 0.4],\n",
       "        [5. , 2. , 3.5, 1. ],\n",
       "        [6.4, 3.2, 5.3, 2.3],\n",
       "        [5.4, 3.4, 1.5, 0.4],\n",
       "        [6. , 2.2, 5. , 1.5],\n",
       "        [6.3, 3.3, 6. , 2.5],\n",
       "        [5.2, 2.7, 3.9, 1.4],\n",
       "        [7. , 3.2, 4.7, 1.4],\n",
       "        [6.5, 3. , 5.2, 2. ],\n",
       "        [4.9, 2.4, 3.3, 1. ],\n",
       "        [7.7, 3. , 6.1, 2.3],\n",
       "        [5.2, 4.1, 1.5, 0.1],\n",
       "        [6.7, 2.5, 5.8, 1.8],\n",
       "        [6. , 3. , 4.8, 1.8],\n",
       "        [6. , 3.4, 4.5, 1.6],\n",
       "        [7.2, 3.2, 6. , 1.8],\n",
       "        [5.6, 2.8, 4.9, 2. ],\n",
       "        [5.1, 3.4, 1.5, 0.2],\n",
       "        [6.4, 2.8, 5.6, 2.1],\n",
       "        [4.6, 3.6, 1. , 0.2],\n",
       "        [6.3, 2.3, 4.4, 1.3],\n",
       "        [5. , 3. , 1.6, 0.2],\n",
       "        [5. , 3.3, 1.4, 0.2],\n",
       "        [6.3, 2.5, 4.9, 1.5],\n",
       "        [4.9, 3.1, 1.5, 0.1],\n",
       "        [6. , 2.9, 4.5, 1.5],\n",
       "        [4.9, 3.1, 1.5, 0.2]]),\n",
       " array([[6. , 2.7, 5.1, 1.6],\n",
       "        [6.9, 3.1, 5.1, 2.3],\n",
       "        [5.5, 2.3, 4. , 1.3],\n",
       "        [6.1, 2.8, 4.7, 1.2],\n",
       "        [6.4, 2.7, 5.3, 1.9],\n",
       "        [6.7, 3. , 5. , 1.7],\n",
       "        [5.6, 2.7, 4.2, 1.3],\n",
       "        [6.5, 3.2, 5.1, 2. ],\n",
       "        [5.7, 3. , 4.2, 1.2],\n",
       "        [7.2, 3.6, 6.1, 2.5],\n",
       "        [5.7, 4.4, 1.5, 0.4],\n",
       "        [6.4, 3.2, 4.5, 1.5],\n",
       "        [6.8, 3.2, 5.9, 2.3],\n",
       "        [6.2, 2.2, 4.5, 1.5],\n",
       "        [5.4, 3. , 4.5, 1.5],\n",
       "        [4.8, 3. , 1.4, 0.1],\n",
       "        [5.2, 3.4, 1.4, 0.2],\n",
       "        [6.5, 3. , 5.5, 1.8],\n",
       "        [4.6, 3.1, 1.5, 0.2],\n",
       "        [4.7, 3.2, 1.6, 0.2],\n",
       "        [5.7, 2.6, 3.5, 1. ],\n",
       "        [4.9, 3.6, 1.4, 0.1],\n",
       "        [6.7, 3.1, 5.6, 2.4],\n",
       "        [6.1, 2.6, 5.6, 1.4],\n",
       "        [6.5, 3. , 5.8, 2.2],\n",
       "        [4.6, 3.2, 1.4, 0.2],\n",
       "        [5.8, 2.8, 5.1, 2.4],\n",
       "        [6.9, 3.1, 4.9, 1.5],\n",
       "        [6.6, 3. , 4.4, 1.4],\n",
       "        [5.5, 2.5, 4. , 1.3],\n",
       "        [5.8, 2.6, 4. , 1.2],\n",
       "        [5.9, 3.2, 4.8, 1.8],\n",
       "        [5.7, 2.9, 4.2, 1.3],\n",
       "        [7.6, 3. , 6.6, 2.1],\n",
       "        [5.1, 3.7, 1.5, 0.4],\n",
       "        [5. , 2.3, 3.3, 1. ],\n",
       "        [4.8, 3.4, 1.9, 0.2],\n",
       "        [5.5, 3.5, 1.3, 0.2]]),\n",
       " array([1, 1, 1, 1, 2, 1, 1, 0, 1, 0, 2, 1, 1, 2, 2, 0, 0, 2, 1, 2, 0, 2,\n",
       "        1, 1, 2, 1, 0, 0, 0, 0, 1, 0, 0, 2, 2, 2, 1, 0, 1, 2, 0, 1, 2, 1,\n",
       "        2, 1, 0, 2, 2, 2, 0, 2, 0, 0, 0, 0, 1, 0, 2, 0, 2, 0, 2, 0, 0, 0,\n",
       "        0, 0, 1, 2, 2, 2, 0, 2, 0, 1, 2, 2, 2, 1, 1, 1, 0, 2, 0, 0, 1, 2,\n",
       "        0, 2, 2, 1, 1, 2, 1, 2, 0, 2, 2, 1, 2, 2, 0, 2, 0, 1, 0, 0, 1, 0,\n",
       "        1, 0]),\n",
       " array([1, 2, 1, 1, 2, 1, 1, 2, 1, 2, 0, 1, 2, 1, 1, 0, 0, 2, 0, 0, 1, 0,\n",
       "        2, 2, 2, 0, 2, 1, 1, 1, 1, 1, 1, 2, 0, 1, 0, 0])]"
      ]
     },
     "execution_count": 7,
     "metadata": {},
     "output_type": "execute_result"
    }
   ],
   "source": [
    "train_test_split(X, y, test_size = 0.25)\n"
   ]
  },
  {
   "cell_type": "markdown",
   "metadata": {},
   "source": [
    "- **x_train** contains the training features (Sepal length, Sepal width, Petal length, Petal width)\n",
    "- **x_test** contains the testing features (Sepal length, Sepal width, Petal length, Petal width)\n",
    "\n",
    "- **y_train** contains training labels (0 for Setosa, 1 for Versicolor, or 2 for Virginica)\n",
    "- **y_test** contains the testing labels (0 for Setosa, 1 for Versicolor, or 2 for Virginica)"
   ]
  },
  {
   "cell_type": "code",
   "execution_count": 8,
   "metadata": {},
   "outputs": [],
   "source": [
    "def split_data(X, y, test_size=0.25):\n",
    "    return train_test_split(X, y, test_size = test_size)\n"
   ]
  },
  {
   "cell_type": "code",
   "execution_count": 9,
   "metadata": {},
   "outputs": [
    {
     "name": "stdout",
     "output_type": "stream",
     "text": [
      "There are 112 samples in the training set and 38 samples in the test set\n"
     ]
    }
   ],
   "source": [
    "X_train, X_test, y_train, y_test = split_data(X, y)\n",
    "print('There are {} samples in the training set and {} samples in the test set'.format(X_train.shape[0], X_test.shape[0]))\n"
   ]
  },
  {
   "cell_type": "markdown",
   "metadata": {},
   "source": [
    "### Build a Model using Classification Algorithm"
   ]
  },
  {
   "cell_type": "markdown",
   "metadata": {},
   "source": [
    "1. Decision Tree\n",
    "1. K Nearest Neighbors\n",
    "1. Support Vector Machine"
   ]
  },
  {
   "cell_type": "code",
   "execution_count": 10,
   "metadata": {},
   "outputs": [
    {
     "data": {
      "text/plain": [
       "DecisionTreeClassifier()"
      ]
     },
     "execution_count": 10,
     "metadata": {},
     "output_type": "execute_result"
    }
   ],
   "source": [
    "classifier = tree.DecisionTreeClassifier()\n",
    "classifier.fit(X_train, y_train)"
   ]
  },
  {
   "cell_type": "code",
   "execution_count": 11,
   "metadata": {},
   "outputs": [
    {
     "data": {
      "text/plain": [
       "KNeighborsClassifier()"
      ]
     },
     "execution_count": 11,
     "metadata": {},
     "output_type": "execute_result"
    }
   ],
   "source": [
    "classifier = neighbors.KNeighborsClassifier()\n",
    "classifier.fit(X_train, y_train)"
   ]
  },
  {
   "cell_type": "code",
   "execution_count": 12,
   "metadata": {},
   "outputs": [
    {
     "data": {
      "text/plain": [
       "SVC()"
      ]
     },
     "execution_count": 12,
     "metadata": {},
     "output_type": "execute_result"
    }
   ],
   "source": [
    "classifier = svm.SVC()\n",
    "classifier.fit(X_train, y_train)"
   ]
  },
  {
   "cell_type": "code",
   "execution_count": 13,
   "metadata": {},
   "outputs": [],
   "source": [
    "def build_model(model=\"\"):\n",
    "    X, y = download_data()\n",
    "    X_train, X_test, y_train, y_test = split_data(X, y)\n",
    "\n",
    "    if model == \"knn\":\n",
    "        classifier = neighbors.KNeighborsClassifier()\n",
    "    elif model == \"svm\":\n",
    "        classifier = svm.SVC()\n",
    "    else:\n",
    "        model = \"tree\"\n",
    "        classifier = tree.DecisionTreeClassifier()\n",
    "\n",
    "    classifier.fit(X_train, y_train)\n",
    "\n",
    "    predictions = classifier.predict(X_test)\n",
    "    accuracy = accuracy_score(y_test, predictions)\n",
    "    print(\"Accuracy for {}: {}\".format(model, accuracy))\n",
    "\n",
    "    return classifier"
   ]
  },
  {
   "cell_type": "code",
   "execution_count": 14,
   "metadata": {},
   "outputs": [
    {
     "name": "stdout",
     "output_type": "stream",
     "text": [
      "Accuracy for tree: 0.8947368421052632\n"
     ]
    }
   ],
   "source": [
    "model_tree = build_model(\"tree\")"
   ]
  },
  {
   "cell_type": "code",
   "execution_count": 15,
   "metadata": {},
   "outputs": [
    {
     "name": "stdout",
     "output_type": "stream",
     "text": [
      "Accuracy for knn: 0.9736842105263158\n"
     ]
    }
   ],
   "source": [
    "model_knn = build_model(\"knn\")"
   ]
  },
  {
   "cell_type": "code",
   "execution_count": 16,
   "metadata": {},
   "outputs": [
    {
     "name": "stdout",
     "output_type": "stream",
     "text": [
      "Accuracy for svm: 0.9736842105263158\n"
     ]
    }
   ],
   "source": [
    "model_svm = build_model(\"svm\")"
   ]
  },
  {
   "cell_type": "markdown",
   "metadata": {},
   "source": [
    "### Test with our own data\n",
    "\n",
    "Iris with following features:\n",
    "- Sepal length of 1 cm\n",
    "- Sepal width of 2 cm\n",
    "- Petal length of 3 cm\n",
    "- Petal width of 4 cm\n"
   ]
  },
  {
   "cell_type": "code",
   "execution_count": 17,
   "metadata": {},
   "outputs": [
    {
     "name": "stdout",
     "output_type": "stream",
     "text": [
      "Predicted Iris species using Decision Tree: ['virginica']\n",
      "Predicted Iris species using K Nearest Neighbors: ['versicolor']\n",
      "Predicted Iris species using Support Vector Machine: ['virginica']\n"
     ]
    }
   ],
   "source": [
    "X_new = np.array([[1, 2, 3, 4]])\n",
    "\n",
    "prediction_tree = model_tree.predict(X_new)\n",
    "print(\"Predicted Iris species using Decision Tree: {}\".format(iris_dataset.target_names[prediction_tree]))\n",
    "\n",
    "prediction_knn = model_knn.predict(X_new)\n",
    "print(\"Predicted Iris species using K Nearest Neighbors: {}\".format(iris_dataset.target_names[prediction_knn]))\n",
    "\n",
    "prediction_svm = model_svm.predict(X_new)\n",
    "print(\"Predicted Iris species using Support Vector Machine: {}\".format(iris_dataset.target_names[prediction_svm]))\n"
   ]
  },
  {
   "cell_type": "code",
   "execution_count": null,
   "metadata": {},
   "outputs": [],
   "source": []
  }
 ],
 "metadata": {
  "kernelspec": {
   "display_name": "Python 3",
   "language": "python",
   "name": "python3"
  },
  "language_info": {
   "codemirror_mode": {
    "name": "ipython",
    "version": 3
   },
   "file_extension": ".py",
   "mimetype": "text/x-python",
   "name": "python",
   "nbconvert_exporter": "python",
   "pygments_lexer": "ipython3",
   "version": "3.8.10"
  }
 },
 "nbformat": 4,
 "nbformat_minor": 4
}
