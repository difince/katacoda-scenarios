{
 "cells": [
  {
   "cell_type": "markdown",
   "metadata": {
    "slideshow": {
     "slide_type": "slide"
    }
   },
   "source": [
    "# Iris Flower Classification\n",
    "\n",
    "<img src=\"./img/iris_small.png\" alt=\"iris flower\" width=\"200\"/>\n"
   ]
  },
  {
   "cell_type": "markdown",
   "metadata": {
    "slideshow": {
     "slide_type": "slide"
    }
   },
   "source": [
    "Before we get started, please make sure you have jupyter notebook installed and running.\n",
    "\n",
    "You have three options to run jupyter notebook:\n",
    "1. Run Jupyter Notebook Locally\n",
    "1. Run Jupyter Notebook on Kubeflow\n",
    "1. Run Jupyter Notebook via Colaboratory\n",
    "\n",
    "\n",
    "#### Run Jupyter Notebook Locally\n",
    "Jupyter notebook installation command\n",
    "```\n",
    "pip install notebook\n",
    "```\n",
    "\n",
    "After installation, run the following command from the directory you like to create your notebook.\n",
    "```\n",
    "jupyter notebook\n",
    "```\n",
    "\n",
    "#### Run Jupyter Notebook on Kubeflow\n",
    "This option is for the folks who have full Kubeflow installed\n",
    "- Navigate to [localhost:8080]()\n",
    "- Sign in with username `user@example.com` and password `12341234`\n",
    "- Click \"Notebook\" from the menu\n",
    "- Click \"New server\"\n",
    "- Give a name \"iris-demo\" and click \"Launch\"\n",
    "- Give a few seconds for it to run\n",
    "- Once \"connect\" button becomes available, click to start the notebook\n",
    "- Choose \"python3\" under \"Notebook\"\n",
    "\n",
    "#### Run Jupyter Notebook via Colaboratory\n",
    "- Navigate to [https://research.google.com/colaboratory/](https://research.google.com/colaboratory/)\n",
    "- Login with your Google account\n",
    "- Click \"New Notebook\""
   ]
  },
  {
   "cell_type": "markdown",
   "metadata": {
    "slideshow": {
     "slide_type": "subslide"
    }
   },
   "source": [
    "### Goal\n",
    "Using the [Iris dataset](https://scikit-learn.org/stable/auto_examples/datasets/plot_iris_dataset.html), design a model that learns from the measurements of the Iris flower to **predict the species of the new irises**."
   ]
  },
  {
   "cell_type": "markdown",
   "metadata": {
    "slideshow": {
     "slide_type": "subslide"
    }
   },
   "source": [
    "### Approach\n",
    "\n",
    "\n",
    "![Iris Problem Statement](./img/problem_statement.png)\n",
    "\n",
    "|    |    |\n",
    "| -- | -- |\n",
    "| **Features** | Petal width & length and Septal width & length | \n",
    "| **Labels** | Setosa, Veriscolor, and Virginica |\n",
    "| **Classifiers** | Decision Tree and K-Nearest Neighbors |"
   ]
  },
  {
   "cell_type": "markdown",
   "metadata": {
    "slideshow": {
     "slide_type": "slide"
    }
   },
   "source": [
    "### High Level End-to-End ML Workflow\n",
    "\n",
    "1. Collect Data\n",
    "1. Prepare Data\n",
    "1. Choose the model\n",
    "1. Train the model\n",
    "1. Evaluate the model's performance and predictions\n",
    "1. Tune hyperparameter\n",
    "1. Predict / Inference\n",
    "1. Monitor the model\n",
    "1. Iterate the steps and Adjust the model"
   ]
  },
  {
   "cell_type": "markdown",
   "metadata": {
    "slideshow": {
     "slide_type": "slide"
    }
   },
   "source": [
    "### Step 1 - Collect Data\n",
    "\n",
    "For the workshop, we'll load a builtin dataset from the scikit learn library\n",
    "\n",
    "- What is **[scikit learn](https://scikit-learn.org/stable/)**?\n",
    "- Do you have scikit-learn installed?\n",
    "```\n",
    "! python3 -m pip show scikit-learn\n",
    "```\n",
    "- Install scikit-learn\n",
    "```\n",
    "! python3 -m pip install -U scikit-learn\n",
    "```"
   ]
  },
  {
   "cell_type": "code",
   "execution_count": null,
   "metadata": {
    "scrolled": false,
    "slideshow": {
     "slide_type": "subslide"
    }
   },
   "outputs": [],
   "source": [
    "# Run terminal commands in the notebook cells by prepending with an exclamation mark\n",
    "\n",
    "# check to see if scikit-learn is installed\n",
    "! python3 -m pip show scikit-learn"
   ]
  },
  {
   "cell_type": "code",
   "execution_count": null,
   "metadata": {
    "scrolled": true,
    "slideshow": {
     "slide_type": "-"
    }
   },
   "outputs": [],
   "source": [
    "# install scikit learn\n",
    "! python3 -m pip install -U scikit-learn"
   ]
  },
  {
   "cell_type": "code",
   "execution_count": null,
   "metadata": {
    "scrolled": true,
    "slideshow": {
     "slide_type": "subslide"
    }
   },
   "outputs": [],
   "source": [
    "from sklearn import datasets\n",
    "\n",
    "iris_dataset = datasets.load_iris()\n",
    "iris_dataset"
   ]
  },
  {
   "cell_type": "markdown",
   "metadata": {
    "slideshow": {
     "slide_type": "slide"
    }
   },
   "source": [
    "### Step 2 - Prepare Data\n",
    "\n",
    "Some of the steps involved in data preparations are:\n",
    "Data Discovery, Data Cleaning, Data Transformation, Data Sampling, Data Split, and etc.\n",
    "\n",
    "\n",
    "Let's learn basic skills to explore dataset using pandas!\n",
    "- What is **[pandas](https://pandas.pydata.org/)**?\n",
    "- Do you have pandas installed?\n",
    "```\n",
    "! python3 -m pip show pandas\n",
    "```\n",
    "- Install pandas\n",
    "```\n",
    "! python3 -m pip install -U pandas\n",
    "```"
   ]
  },
  {
   "cell_type": "code",
   "execution_count": null,
   "metadata": {
    "scrolled": true,
    "slideshow": {
     "slide_type": "subslide"
    }
   },
   "outputs": [],
   "source": [
    "! python3 -m pip show pandas"
   ]
  },
  {
   "cell_type": "code",
   "execution_count": null,
   "metadata": {
    "scrolled": true,
    "slideshow": {
     "slide_type": "-"
    }
   },
   "outputs": [],
   "source": [
    "! python3 -m pip install -U pandas"
   ]
  },
  {
   "cell_type": "markdown",
   "metadata": {
    "slideshow": {
     "slide_type": "subslide"
    }
   },
   "source": [
    "- Let's try to answer these questions\n",
    "    - [ ] How many columns?\n",
    "    - [ ] What are the names of the columns?\n",
    "    - [ ] How many rows exist with label \"Setosa\"?\n",
    "    - [ ] Which label does min petal length belong to?\n",
    "    - [ ] Which label does max petal length belong to?\n",
    "    - [ ] What are the input variables and output variables?"
   ]
  },
  {
   "cell_type": "code",
   "execution_count": null,
   "metadata": {
    "scrolled": true,
    "slideshow": {
     "slide_type": "subslide"
    }
   },
   "outputs": [],
   "source": [
    "import pandas as pd\n",
    "\n",
    "df_features = pd.DataFrame(data=iris_dataset.data, columns=iris_dataset.feature_names)\n",
    "df_features.head()"
   ]
  },
  {
   "cell_type": "markdown",
   "metadata": {
    "slideshow": {
     "slide_type": "fragment"
    }
   },
   "source": [
    "- [x] How many columns?\n",
    "- [x] What are the names of the columns?\n",
    "- [ ] How many rows exist with label \"Setosa\"?\n",
    "- [ ] Which label does min petal length belong to?\n",
    "- [ ] Which label does max petal length belong to?\n",
    "- [ ] What are the input variables and output variables?"
   ]
  },
  {
   "cell_type": "code",
   "execution_count": null,
   "metadata": {
    "scrolled": true,
    "slideshow": {
     "slide_type": "subslide"
    }
   },
   "outputs": [],
   "source": [
    "# let's look at the dataset again, which key do we need to get the labels?\n",
    "iris_dataset"
   ]
  },
  {
   "cell_type": "code",
   "execution_count": null,
   "metadata": {
    "scrolled": true,
    "slideshow": {
     "slide_type": "subslide"
    }
   },
   "outputs": [],
   "source": [
    "df_features_and_target = df_features.copy()\n",
    "\n",
    "# add a new column target\n",
    "df_features_and_target['target'] = pd.Series(iris_dataset.target)\n",
    "\n",
    "# add a new column species\n",
    "df_features_and_target['species'] = pd.Categorical.from_codes(iris_dataset.target, iris_dataset.target_names)\n",
    "\n",
    "# show the first 5 rows\n",
    "df_features_and_target.head(5)"
   ]
  },
  {
   "cell_type": "code",
   "execution_count": null,
   "metadata": {
    "scrolled": true,
    "slideshow": {
     "slide_type": "fragment"
    }
   },
   "outputs": [],
   "source": [
    "df_features_and_target[\"species\"].value_counts()\n"
   ]
  },
  {
   "cell_type": "code",
   "execution_count": null,
   "metadata": {
    "scrolled": true,
    "slideshow": {
     "slide_type": "fragment"
    }
   },
   "outputs": [],
   "source": [
    "temp = df_features_and_target.copy()\n",
    "\n",
    "temp[temp[\"petal length (cm)\"] == temp[\"petal length (cm)\"].min()].species\n"
   ]
  },
  {
   "cell_type": "code",
   "execution_count": null,
   "metadata": {
    "scrolled": true,
    "slideshow": {
     "slide_type": "fragment"
    }
   },
   "outputs": [],
   "source": [
    "temp[temp[\"petal length (cm)\"] == temp[\"petal length (cm)\"].max()].species\n"
   ]
  },
  {
   "cell_type": "markdown",
   "metadata": {
    "slideshow": {
     "slide_type": "subslide"
    }
   },
   "source": [
    "- [x] How many columns?\n",
    "- [x] What are the names of the columns?\n",
    "- [x] How many rows exist with label \"Setosa\"?\n",
    "- [x] Which label does min petal length belong to?\n",
    "- [x] Which label does max petal length belong to?\n",
    "- [ ] What are the input variables and output variables?"
   ]
  },
  {
   "cell_type": "markdown",
   "metadata": {
    "slideshow": {
     "slide_type": "fragment"
    }
   },
   "source": [
    "```\n",
    "df.shape()\n",
    "df.describe()\n",
    "```\n",
    "\n",
    "- Check out more about [pandas dataframes](https://pandas.pydata.org/docs/reference/api/pandas.DataFrame.html)\n",
    "- Check out [pandas cheatsheet](https://www.educative.io/blog/pandas-cheat-sheet](https://www.educative.io/blog/pandas-cheat-sheet)\n",
    "- Check out [10 minutes to pandas](https://pandas.pydata.org/pandas-docs/stable/user_guide/10min.html)"
   ]
  },
  {
   "cell_type": "code",
   "execution_count": null,
   "metadata": {
    "scrolled": true,
    "slideshow": {
     "slide_type": "subslide"
    }
   },
   "outputs": [],
   "source": [
    "# outcome of data exploration - X, y\n",
    "\n",
    "def download_data():\n",
    "    iris_dataset = datasets.load_iris()\n",
    "    \n",
    "    # do some preprocessing magic if needed!\n",
    "    \n",
    "    # x contains iris features\n",
    "    # (Sepal length, Sepal width, Petal length, Petal width)\n",
    "    X = iris_dataset.data\n",
    "    \n",
    "    # y contins the labels\n",
    "    # (0 for Setosa, 1 for Versicolor, or 2 for Virginica)\n",
    "    y = iris_dataset.target\n",
    "    \n",
    "    return X, y"
   ]
  },
  {
   "cell_type": "code",
   "execution_count": null,
   "metadata": {
    "scrolled": true,
    "slideshow": {
     "slide_type": "subslide"
    }
   },
   "outputs": [],
   "source": [
    "X, y = download_data()"
   ]
  },
  {
   "cell_type": "code",
   "execution_count": null,
   "metadata": {
    "scrolled": true,
    "slideshow": {
     "slide_type": "fragment"
    }
   },
   "outputs": [],
   "source": [
    "# Final Outcome of Step 2\n",
    "\n",
    "from sklearn.model_selection import train_test_split\n",
    "\n",
    "X_train, X_test, y_train, y_test = train_test_split(X, y, test_size = 0.25)"
   ]
  },
  {
   "cell_type": "markdown",
   "metadata": {
    "slideshow": {
     "slide_type": "-"
    }
   },
   "source": [
    "- **x_train** contains the training features (Sepal length, Sepal width, Petal length, Petal width)\n",
    "- **x_test** contains the testing features (Sepal length, Sepal width, Petal length, Petal width)\n",
    "\n",
    "- **y_train** contains training labels (0 for Setosa, 1 for Versicolor, or 2 for Virginica)\n",
    "- **y_test** contains the testing labels (0 for Setosa, 1 for Versicolor, or 2 for Virginica)"
   ]
  },
  {
   "cell_type": "code",
   "execution_count": null,
   "metadata": {
    "scrolled": true,
    "slideshow": {
     "slide_type": "fragment"
    }
   },
   "outputs": [],
   "source": [
    "print('There are {} samples in the training set and {} samples in the test set'.format(X_train.shape[0], X_test.shape[0]))\n"
   ]
  },
  {
   "cell_type": "markdown",
   "metadata": {
    "slideshow": {
     "slide_type": "slide"
    }
   },
   "source": [
    "### Step 3 - Choose the Model\n",
    "\n",
    "There are different algorithms for different tasks. \n",
    "Explore, experiment, and choose the right one!\n",
    "\n",
    "![]()"
   ]
  },
  {
   "cell_type": "markdown",
   "metadata": {
    "slideshow": {
     "slide_type": "slide"
    }
   },
   "source": [
    "### Step 4 - Train the Model\n",
    "\n",
    "The goal of training for our current model is to make a prediction correctly as much as possible.\n",
    "\n",
    "![]()"
   ]
  },
  {
   "cell_type": "code",
   "execution_count": null,
   "metadata": {
    "scrolled": true,
    "slideshow": {
     "slide_type": "subslide"
    }
   },
   "outputs": [],
   "source": [
    "from sklearn import tree\n",
    "\n",
    "# valid splitter: \"best\" or \"random\"\n",
    "# \"best\": takes feature with the highest importance\n",
    "# \"random\": take the feature randomly\n",
    "\n",
    "# tree_classifier = tree.DecisionTreeClassifier(splitter=\"random\")\n",
    "# tree_classifier.fit(X_train, y_train)"
   ]
  },
  {
   "cell_type": "code",
   "execution_count": null,
   "metadata": {
    "scrolled": true,
    "slideshow": {
     "slide_type": "subslide"
    }
   },
   "outputs": [],
   "source": [
    "from sklearn import neighbors\n",
    "\n",
    "# valid neighbors <= n\n",
    "\n",
    "# knn_classifier = neighbors.KNeighborsClassifier(n_neighbors=2)\n",
    "# knn_classifier.fit(X_train, y_train)\n"
   ]
  },
  {
   "cell_type": "markdown",
   "metadata": {
    "slideshow": {
     "slide_type": "slide"
    }
   },
   "source": [
    "### Step 5 - Evaluate the Model\n",
    "\n",
    "Use metrics to measure performance of model"
   ]
  },
  {
   "cell_type": "code",
   "execution_count": null,
   "metadata": {
    "scrolled": true,
    "slideshow": {
     "slide_type": "subslide"
    }
   },
   "outputs": [],
   "source": [
    "tree_predictions = tree_classifier.predict(X_test)\n",
    "knn_predictions = knn_classifier.predict(X_test)"
   ]
  },
  {
   "cell_type": "code",
   "execution_count": null,
   "metadata": {
    "scrolled": true,
    "slideshow": {
     "slide_type": "fragment"
    }
   },
   "outputs": [],
   "source": [
    "from sklearn.metrics import accuracy_score\n",
    "\n",
    "tree_score = accuracy_score(y_test, tree_predictions)\n",
    "knn_score = accuracy_score(y_test, knn_predictions)\n",
    "\n",
    "print(tree_score)\n",
    "print(knn_score)"
   ]
  },
  {
   "cell_type": "code",
   "execution_count": null,
   "metadata": {
    "scrolled": true,
    "slideshow": {
     "slide_type": "subslide"
    }
   },
   "outputs": [],
   "source": [
    "# put it all together!\n",
    "\n",
    "def build_model(model=\"\", parameter=\"\"):\n",
    "    iris_dataset = datasets.load_iris()\n",
    "    X = iris_dataset.data\n",
    "    y = iris_dataset.target\n",
    "\n",
    "    X_train, X_test, y_train, y_test = train_test_split(X, y, test_size=0.25)\n",
    "\n",
    "    if model == \"knn\":\n",
    "        classifier = neighbors.KNeighborsClassifier(n_neighbors=int(parameter))\n",
    "    else:\n",
    "        model = \"tree\"\n",
    "        classifier = tree.DecisionTreeClassifier(splitter=parameter)\n",
    "\n",
    "    classifier.fit(X_train, y_train)\n",
    "\n",
    "    predictions = classifier.predict(X_test)\n",
    "    accuracy = accuracy_score(y_test, predictions)\n",
    "    print(\"accuracy={}\".format(accuracy))\n",
    "\n",
    "    return classifier"
   ]
  },
  {
   "cell_type": "code",
   "execution_count": null,
   "metadata": {
    "scrolled": true,
    "slideshow": {
     "slide_type": "subslide"
    }
   },
   "outputs": [],
   "source": [
    "model_tree = build_model(\"tree\", \"random\")\n"
   ]
  },
  {
   "cell_type": "code",
   "execution_count": null,
   "metadata": {
    "scrolled": true,
    "slideshow": {
     "slide_type": "fragment"
    }
   },
   "outputs": [],
   "source": [
    "model_knn = build_model(\"knn\", \"2\")\n"
   ]
  },
  {
   "cell_type": "markdown",
   "metadata": {
    "slideshow": {
     "slide_type": "slide"
    }
   },
   "source": [
    "### Test with our own data\n",
    "\n",
    "Iris with following features:\n",
    "- Sepal length of 1 cm\n",
    "- Sepal width of 2 cm\n",
    "- Petal length of 3 cm\n",
    "- Petal width of 4 cm\n"
   ]
  },
  {
   "cell_type": "code",
   "execution_count": null,
   "metadata": {
    "scrolled": true,
    "slideshow": {
     "slide_type": "fragment"
    }
   },
   "outputs": [],
   "source": [
    "X_new = [[1, 2, 3, 4]]\n",
    "\n",
    "prediction_tree = model_tree.predict(X_new)\n",
    "print(\"Predicted Iris species using Decision Tree: {}\".format(iris_dataset.target_names[prediction_tree]))\n",
    "\n",
    "prediction_knn = model_knn.predict(X_new)\n",
    "print(\"Predicted Iris species using K Nearest Neighbors: {}\".format(iris_dataset.target_names[prediction_knn]))"
   ]
  },
  {
   "cell_type": "markdown",
   "metadata": {
    "slideshow": {
     "slide_type": "slide"
    }
   },
   "source": [
    "# Steps achieved\n",
    "\n",
    "1. Collect Data\n",
    "1. Prepare Data\n",
    "1. Choose the model\n",
    "1. Train the model\n",
    "1. Evaluate the model's performance and predictions\n",
    "\n",
    "### Now What?\n",
    "\n",
    "- What if we get a new dataset to train?\n",
    "- What if we want to test out more different parameters?\n",
    "- What if we want to test different models?\n"
   ]
  }
 ],
 "metadata": {
  "celltoolbar": "Slideshow",
  "kernelspec": {
   "display_name": "Python 3 (ipykernel)",
   "language": "python",
   "name": "python3"
  },
  "language_info": {
   "codemirror_mode": {
    "name": "ipython",
    "version": 3
   },
   "file_extension": ".py",
   "mimetype": "text/x-python",
   "name": "python",
   "nbconvert_exporter": "python",
   "pygments_lexer": "ipython3",
   "version": "3.9.5"
  }
 },
 "nbformat": 4,
 "nbformat_minor": 4
}