{
 "cells": [
  {
   "cell_type": "markdown",
   "metadata": {
    "slideshow": {
     "slide_type": "slide"
    }
   },
   "source": [
    "# What are Kubeflow Pipelines? "
   ]
  },
  {
   "cell_type": "markdown",
   "metadata": {
    "slideshow": {
     "slide_type": "subslide"
    }
   },
   "source": [
    "A <b>pipeline</b> is a description of a machine learning (ML) workflow, including all of the components in the workflow and how the components relate to each other in the form of a graph.\n"
   ]
  },
  {
   "cell_type": "markdown",
   "metadata": {
    "slideshow": {
     "slide_type": "slide"
    }
   },
   "source": [
    "# What is Pipeline Component?"
   ]
  },
  {
   "cell_type": "markdown",
   "metadata": {
    "slideshow": {
     "slide_type": "subslide"
    }
   },
   "source": [
    "A pipeline component is one step of a pipeline that does a specific task."
   ]
  },
  {
   "cell_type": "markdown",
   "metadata": {
    "slideshow": {
     "slide_type": "subslide"
    }
   },
   "source": [
    "<img src=\"./img/iris_classification_pipeline.png\" alt=\"iris classification pipeline\" align=\"left\" style=\"padding-left: 10px; padding-right: 40px;\"/> \n"
   ]
  },
  {
   "cell_type": "markdown",
   "metadata": {
    "slideshow": {
     "slide_type": "notes"
    }
   },
   "source": [
    "The left upper image, shows the pipeline this workshop creates.It is a simple pipeline with just a few steps:\n",
    "\n",
    "1. The first steps train models using respectively decision tree and K-nearest neighbours algorythms. These two steps are executing in paralel. \n",
    "2. The results from the these steps are taken in consideration in the next steps - conditional steps. These steps check which model provides higher accuracity. \n",
    "3. Depending on the results of the conditional components only the model that give higher accuracity is saved for later use/serving.\n",
    "\n",
    "The image on the right depicts a pipeline component. We could think of a pipeline component as a function that has its body/logic and a signiture - name, input parameters, outputs. The distinguishing feature of pipeline components is that their logic (ML code) resides in a Docker image. So, as part of the components specification/signiture we need to provide the container image, the command to use to run your component’s code, and the command-line arguments to pass to your component’s code. \n",
    "When a pipeline is run, the system launches one or more Kubernetes Pods corresponding to the steps (components) in the pipeline. The Pods start Docker containers, and the containers in turn start your programs.\n"
   ]
  },
  {
   "cell_type": "markdown",
   "metadata": {
    "slideshow": {
     "slide_type": "slide"
    }
   },
   "source": [
    "# Steps to create a Pipeline\n",
    "1. Write the ML python code\n",
    "2. Containerize components code\n",
    "3. Define a Pipeline\n",
    "    - Define component's specifications\n",
    "    \n",
    "    \n",
    "*Leverage [kfp](https://kubeflow-pipelines.readthedocs.io/en/latest/source/kfp.html) library "
   ]
  },
  {
   "cell_type": "markdown",
   "metadata": {
    "slideshow": {
     "slide_type": "slide"
    }
   },
   "source": [
    "##  1. ML Python Code\n",
    "You could find the ML code here:\n",
    "[iris_classification.py](../ml/iris_classification.py)\n"
   ]
  },
  {
   "cell_type": "markdown",
   "metadata": {},
   "source": [
    "## 2. Containerize components code\n",
    "\n",
    "We alreade created an image that contains our ML code: \n",
    "\n",
    ">**annajung/iris:latest**"
   ]
  },
  {
   "cell_type": "markdown",
   "metadata": {
    "slideshow": {
     "slide_type": "slide"
    }
   },
   "source": [
    "## 3. Create Iris Classification Pipeline"
   ]
  },
  {
   "cell_type": "code",
   "execution_count": 9,
   "metadata": {},
   "outputs": [],
   "source": [
    "import kfp\n",
    "from kfp import dsl"
   ]
  },
  {
   "cell_type": "code",
   "execution_count": 10,
   "metadata": {},
   "outputs": [],
   "source": [
    "###################################################################################\n",
    "# 1.Define a Pipeline specification\n",
    "#\n",
    "# 2.Define components specifications:\n",
    "#     - Component that builds model based on Decision Tree\n",
    "#     - Component that builds model based on K-Nearest Neighbors\n",
    "#     - Conditional Component that check if the Decision Tree has a higher accuracy\n",
    "#         :Component that save tree model into a file\n",
    "#     - Conditional Component that check if the KNN has a higher accuracy\n",
    "#         :Component that save knn model into a file\n",
    "###################################################################################\n",
    "\n",
    "@dsl.pipeline(\n",
    "    name='iris-classification',\n",
    "    description='A basic pipeline example for iris classification'\n",
    ")\n",
    "def iris_classification_pipeline(n_neighbors=2, splitter=\"random\"):\n",
    "    tree = dsl.ContainerOp(\n",
    "        name=\"Train using Decision Tree\",\n",
    "        image=\"annajung/iris:latest\",\n",
    "        command=[\"sh\", \"-c\"],\n",
    "        arguments=[\"python iris_classification.py build_model tree \" + str(splitter)],\n",
    "        file_outputs={'output': '/tmp/accuracy_tree.txt'}\n",
    "    )\n",
    "\n",
    "    knn = dsl.ContainerOp(\n",
    "        name=\"Train using K Nearest Neighbors\",\n",
    "        image=\"annajung/iris:latest\",\n",
    "        command=[\"sh\", \"-c\"],\n",
    "        arguments=[\"python iris_classification.py build_model knn \" + str(n_neighbors)],\n",
    "        file_outputs={'output': '/tmp/accuracy_knn.txt'}\n",
    "    )\n",
    "\n",
    "    with dsl.Condition(tree.output >= knn.output):\n",
    "        dsl.ContainerOp(\n",
    "            name='Save Tree model',\n",
    "            image=\"annajung/iris:latest\",\n",
    "            command=['sh', '-c'],\n",
    "            arguments=[\"python3  iris_classification.py save_final_model tree \" + str(splitter)],\n",
    "            file_outputs={'output': '/tmp/tree.pkl'},\n",
    "        )\n",
    "\n",
    "    with dsl.Condition(knn.output > tree.output):\n",
    "        dsl.ContainerOp(\n",
    "            name='Save KNN model',\n",
    "            image=\"annajung/iris:latest\",\n",
    "            command=['sh', '-c'],\n",
    "            arguments=[\"python3  iris_classification.py save_final_model knn \" + str(n_neighbors)],\n",
    "            file_outputs={'output': '/tmp/knn.pkl'},\n",
    "        )\n",
    "\n",
    "    dsl.get_pipeline_conf().set_ttl_seconds_after_finished(500)"
   ]
  },
  {
   "cell_type": "markdown",
   "metadata": {},
   "source": [
    "DSL Compiler compiles given pipeline function into workflow yaml."
   ]
  },
  {
   "cell_type": "code",
   "execution_count": 11,
   "metadata": {},
   "outputs": [
    {
     "name": "stderr",
     "output_type": "stream",
     "text": [
      "/home/didi/.local/lib/python3.8/site-packages/kfp/components/_data_passing.py:170: UserWarning: Missing type name was inferred as \"Integer\" based on the value \"2\".\n",
      "  warnings.warn('Missing type name was inferred as \"{}\" based on the value \"{}\".'.format(type_name, str(value)))\n",
      "/home/didi/.local/lib/python3.8/site-packages/kfp/dsl/_container_op.py:1207: FutureWarning: Please create reusable components instead of constructing ContainerOp instances directly. Reusable components are shareable, portable and have compatibility and support guarantees. Please see the documentation: https://www.kubeflow.org/docs/pipelines/sdk/component-development/#writing-your-component-definition-file The components can be created manually (or, in case of python, using kfp.components.create_component_from_func or func_to_container_op) and then loaded using kfp.components.load_component_from_file, load_component_from_uri or load_component_from_text: https://kubeflow-pipelines.readthedocs.io/en/stable/source/kfp.components.html#kfp.components.load_component_from_file\n",
      "  warnings.warn(\n"
     ]
    }
   ],
   "source": [
    "kfp.compiler.Compiler().compile(iris_classification_pipeline, 'iris_classification_pipeline.yaml')"
   ]
  },
  {
   "cell_type": "code",
   "execution_count": null,
   "metadata": {},
   "outputs": [],
   "source": []
  }
 ],
 "metadata": {
  "celltoolbar": "Slideshow",
  "kernelspec": {
   "display_name": "Python 3 (ipykernel)",
   "language": "python",
   "name": "python3"
  },
  "language_info": {
   "codemirror_mode": {
    "name": "ipython",
    "version": 3
   },
   "file_extension": ".py",
   "mimetype": "text/x-python",
   "name": "python",
   "nbconvert_exporter": "python",
   "pygments_lexer": "ipython3",
   "version": "3.8.10"
  },
  "varInspector": {
   "cols": {
    "lenName": 16,
    "lenType": 16,
    "lenVar": 40
   },
   "kernels_config": {
    "python": {
     "delete_cmd_postfix": "",
     "delete_cmd_prefix": "del ",
     "library": "var_list.py",
     "varRefreshCmd": "print(var_dic_list())"
    },
    "r": {
     "delete_cmd_postfix": ") ",
     "delete_cmd_prefix": "rm(",
     "library": "var_list.r",
     "varRefreshCmd": "cat(var_dic_list()) "
    }
   },
   "position": {
    "height": "144.5px",
    "left": "1478px",
    "right": "20px",
    "top": "119px",
    "width": "350px"
   },
   "types_to_exclude": [
    "module",
    "function",
    "builtin_function_or_method",
    "instance",
    "_Feature"
   ],
   "window_display": false
  }
 },
 "nbformat": 4,
 "nbformat_minor": 4
}
