{
 "cells": [
  {
   "cell_type": "markdown",
   "metadata": {
    "slideshow": {
     "slide_type": "slide"
    }
   },
   "source": [
    "# What are Kubeflow Pipelines? "
   ]
  },
  {
   "cell_type": "markdown",
   "metadata": {
    "slideshow": {
     "slide_type": "subslide"
    }
   },
   "source": [
    "A <b>pipeline</b> is a description of a machine learning (ML) workflow, including all of the components in the workflow and how the components relate to each other in the form of a graph.\n"
   ]
  },
  {
   "cell_type": "markdown",
   "metadata": {
    "slideshow": {
     "slide_type": "slide"
    }
   },
   "source": [
    "# What is Pipeline Component?"
   ]
  },
  {
   "cell_type": "markdown",
   "metadata": {
    "slideshow": {
     "slide_type": "subslide"
    }
   },
   "source": [
    "A pipeline component is one step of a workflow/pipeline that does a specific task."
   ]
  },
  {
   "cell_type": "markdown",
   "metadata": {
    "slideshow": {
     "slide_type": "subslide"
    }
   },
   "source": [
    "<img src=\"./img/iris_classification_pipeline.png\" alt=\"iris classification pipeline\" align=\"left\" style=\"padding-left: 10px; padding-right: 40px;\"/> \n"
   ]
  },
  {
   "cell_type": "markdown",
   "metadata": {
    "slideshow": {
     "slide_type": "notes"
    }
   },
   "source": [
    "The left upper image, shows the pipeline this workshop creates. It is a simple pipeline with just a few steps:\n",
    "1. The first steps train models using respectively decision tree and K-nearest neighbours algorythms. These two steps are executing in paralel. \n",
    "2. The results from the these steps are taken in consideration in the next steps - conditional steps. These steps check which model provides higher accuracity. \n",
    "3. Depending on the results of the conditional components only the model that give higher accuracity is saved for later use/serving.\n",
    "\n",
    "When a pipeline is run, the system launches one or more Kubernetes Pods corresponding to the steps in the workflow (pipeline). The Pods start Docker containers, and the containers in turn start your programs."
   ]
  },
  {
   "cell_type": "markdown",
   "metadata": {
    "slideshow": {
     "slide_type": "slide"
    }
   },
   "source": [
    "# Steps to create a Pipeline\n",
    "1. Write the ML python code\n",
    "2. Containerize component’s code\n",
    "    - Create a Dockerfile\n",
    "    - Build container image\n",
    "    - Push image into a container registry\n",
    "3. Define a Pipeline\n",
    "    - Define component's specifications (interfaces)\n",
    "    - Leverage [kfp](https://kubeflow-pipelines.readthedocs.io/en/latest/source/kfp.html) library "
   ]
  },
  {
   "cell_type": "markdown",
   "metadata": {
    "slideshow": {
     "slide_type": "slide"
    }
   },
   "source": [
    "##  1. ML Python Code"
   ]
  },
  {
   "cell_type": "code",
   "execution_count": 8,
   "metadata": {
    "slideshow": {
     "slide_type": "-"
    }
   },
   "outputs": [],
   "source": [
    "import joblib, IPython\n",
    "from sklearn import datasets\n",
    "from sklearn import neighbors\n",
    "from sklearn import tree\n",
    "from sklearn.metrics import accuracy_score\n",
    "from sklearn.model_selection import train_test_split"
   ]
  },
  {
   "cell_type": "code",
   "execution_count": 9,
   "metadata": {
    "slideshow": {
     "slide_type": "-"
    }
   },
   "outputs": [],
   "source": [
    "def download_data():\n",
    "    iris_dataset = datasets.load_iris()\n",
    "    X = iris_dataset.data\n",
    "    y = iris_dataset.target\n",
    "    return X, y\n",
    "\n",
    "\n",
    "def split_data(X, y, test_size=0.25):\n",
    "    return train_test_split(X, y, test_size=test_size)"
   ]
  },
  {
   "cell_type": "code",
   "execution_count": 15,
   "metadata": {
    "slideshow": {
     "slide_type": "slide"
    }
   },
   "outputs": [],
   "source": [
    "def build_model(model=\"\", parameter=\"\"):\n",
    "    X, y = download_data()\n",
    "    X_train, X_test, y_train, y_test = split_data(X, y)\n",
    "\n",
    "    if model == \"knn\":\n",
    "        classifier = neighbors.KNeighborsClassifier(n_neighbors=int(parameter))\n",
    "    else:\n",
    "        model = \"tree\"\n",
    "        classifier = tree.DecisionTreeClassifier(splitter=parameter)\n",
    "\n",
    "    classifier.fit(X_train, y_train)\n",
    " \n",
    "    predictions = classifier.predict(X_test)\n",
    "    accuracy = accuracy_score(y_test, predictions)\n",
    "    print(\"Accuracy for {}: {}\".format(model, accuracy))\n",
    "\n",
    "    text_file = open(\"/tmp/accuracy_{}.txt\".format(model), \"w\")\n",
    "    text_file.write(\"{}\".format(accuracy))\n",
    "    text_file.close()\n",
    "    \n",
    "    return classifier\n"
   ]
  },
  {
   "cell_type": "code",
   "execution_count": 16,
   "metadata": {
    "slideshow": {
     "slide_type": "slide"
    }
   },
   "outputs": [],
   "source": [
    "def save_final_model(model=\"\", parameter=\"\"):\n",
    "    classifier = build_model(model, parameter)\n",
    "    joblib.dump(classifier, \"/tmp/{}.pkl\".format(model))"
   ]
  },
  {
   "cell_type": "markdown",
   "metadata": {
    "slideshow": {
     "slide_type": "slide"
    }
   },
   "source": [
    "## 2. Containerize pipeline component’s code"
   ]
  },
  {
   "cell_type": "markdown",
   "metadata": {
    "slideshow": {
     "slide_type": "slide"
    }
   },
   "source": [
    "### Create a Dockerfile"
   ]
  },
  {
   "cell_type": "markdown",
   "metadata": {
    "slideshow": {
     "slide_type": "fragment"
    }
   },
   "source": [
    "```\n",
    "FROM python:3.8-slim-buster\n",
    "RUN pip3 install sklearn\n",
    "ADD iris_classification.py iris_classification.py\n",
    "```"
   ]
  },
  {
   "cell_type": "markdown",
   "metadata": {
    "slideshow": {
     "slide_type": "slide"
    }
   },
   "source": [
    "### Build container image\n",
    "\n",
    "We already have created and uploaded the image with our ML code. Dockerhub image - **annajung/iris:latest**\n",
    "\n",
    "`docker build --tag \"iris:latest\" -f Dockerfile . `"
   ]
  },
  {
   "cell_type": "markdown",
   "metadata": {
    "slideshow": {
     "slide_type": "slide"
    }
   },
   "source": [
    "### Push image into a container registry"
   ]
  },
  {
   "cell_type": "markdown",
   "metadata": {
    "slideshow": {
     "slide_type": "fragment"
    }
   },
   "source": [
    "`docker login <hub-server>`\n",
    "\n",
    "`docker push <hub-user>/<repo-name>:<tag>`"
   ]
  },
  {
   "cell_type": "markdown",
   "metadata": {
    "slideshow": {
     "slide_type": "slide"
    }
   },
   "source": [
    "## 3. Create Iris Classification Pipeline"
   ]
  },
  {
   "cell_type": "code",
   "execution_count": 12,
   "metadata": {},
   "outputs": [],
   "source": [
    "import kfp\n",
    "from kfp import dsl"
   ]
  },
  {
   "cell_type": "code",
   "execution_count": 13,
   "metadata": {},
   "outputs": [],
   "source": [
    "@dsl.pipeline(\n",
    "    name='iris-classification',\n",
    "    description='A basic pipeline example for iris classification'\n",
    ")\n",
    "def iris_classification_pipeline(n_neighbors=2, splitter=\"random\"):\n",
    "    tree = dsl.ContainerOp(\n",
    "        name=\"Train using Decision Tree\",\n",
    "        image=\"annajung/iris:latest\",\n",
    "        command=[\"sh\", \"-c\"],\n",
    "        arguments=[\"python iris_classification.py build_model tree \" + str(splitter)],\n",
    "        file_outputs={'output': '/tmp/accuracy_tree.txt'}\n",
    "    )\n",
    "\n",
    "    knn = dsl.ContainerOp(\n",
    "        name=\"Train using K Nearest Neighbors\",\n",
    "        image=\"annajung/iris:latest\",\n",
    "        command=[\"sh\", \"-c\"],\n",
    "        arguments=[\"python iris_classification.py build_model knn \" + str(n_neighbors)],\n",
    "        file_outputs={'output': '/tmp/accuracy_knn.txt'}\n",
    "    )\n",
    "\n",
    "    with dsl.Condition(tree.output >= knn.output):\n",
    "        dsl.ContainerOp(\n",
    "            name='Train Tree',\n",
    "            image=\"annajung/iris:latest\",\n",
    "            command=['sh', '-c'],\n",
    "            arguments=[\"python3  iris_classification.py save_final_model tree \" + str(splitter)],\n",
    "            file_outputs={'output': '/tmp/tree.pkl'},\n",
    "        )\n",
    "\n",
    "    with dsl.Condition(knn.output > tree.output):\n",
    "        dsl.ContainerOp(\n",
    "            name='Train KNN',\n",
    "            image=\"annajung/iris:latest\",\n",
    "            command=['sh', '-c'],\n",
    "            arguments=[\"python3  iris_classification.py save_final_model knn \" + str(n_neighbors)],\n",
    "            file_outputs={'output': '/tmp/knn.pkl'},\n",
    "        )\n",
    "\n",
    "    dsl.get_pipeline_conf().set_ttl_seconds_after_finished(500)"
   ]
  },
  {
   "cell_type": "markdown",
   "metadata": {},
   "source": [
    "DSL Compiler compiles given pipeline function into workflow yaml."
   ]
  },
  {
   "cell_type": "code",
   "execution_count": 14,
   "metadata": {},
   "outputs": [],
   "source": [
    "kfp.compiler.Compiler().compile(iris_classification_pipeline, 'iris_classification_pipeline.yaml')"
   ]
  },
  {
   "cell_type": "code",
   "execution_count": null,
   "metadata": {},
   "outputs": [],
   "source": []
  }
 ],
 "metadata": {
  "celltoolbar": "Slideshow",
  "kernelspec": {
   "display_name": "Python 3 (ipykernel)",
   "language": "python",
   "name": "python3"
  },
  "language_info": {
   "codemirror_mode": {
    "name": "ipython",
    "version": 3
   },
   "file_extension": ".py",
   "mimetype": "text/x-python",
   "name": "python",
   "nbconvert_exporter": "python",
   "pygments_lexer": "ipython3",
   "version": "3.8.10"
  },
  "varInspector": {
   "cols": {
    "lenName": 16,
    "lenType": 16,
    "lenVar": 40
   },
   "kernels_config": {
    "python": {
     "delete_cmd_postfix": "",
     "delete_cmd_prefix": "del ",
     "library": "var_list.py",
     "varRefreshCmd": "print(var_dic_list())"
    },
    "r": {
     "delete_cmd_postfix": ") ",
     "delete_cmd_prefix": "rm(",
     "library": "var_list.r",
     "varRefreshCmd": "cat(var_dic_list()) "
    }
   },
   "position": {
    "height": "144.5px",
    "left": "1478px",
    "right": "20px",
    "top": "119px",
    "width": "350px"
   },
   "types_to_exclude": [
    "module",
    "function",
    "builtin_function_or_method",
    "instance",
    "_Feature"
   ],
   "window_display": false
  }
 },
 "nbformat": 4,
 "nbformat_minor": 4
}
